{
 "cells": [
  {
   "cell_type": "markdown",
   "id": "7337f31a",
   "metadata": {},
   "source": [
    "##  Q1"
   ]
  },
  {
   "cell_type": "code",
   "execution_count": 1,
   "id": "fe38edd9",
   "metadata": {},
   "outputs": [
    {
     "data": {
      "text/plain": [
       "[1, 5]"
      ]
     },
     "execution_count": 1,
     "metadata": {},
     "output_type": "execute_result"
    }
   ],
   "source": [
    "def three_integer_arrays(arr1,arr2,arr3):\n",
    "    p1=p2=p3=0\n",
    "    \n",
    "    arr=[]\n",
    "    \n",
    "    while (p1<len(arr1) and p2<len(arr2) and p3<len(arr3)):\n",
    "        if arr1[p1]==arr2[p2]==arr3[p3]:\n",
    "            arr.append(arr1[p1])\n",
    "            p1+= 1\n",
    "            p2+= 1\n",
    "            p3+= 1\n",
    "            \n",
    "        elif arr1[p1]<arr2[p2]:\n",
    "            p1+=1\n",
    "        elif arr2[p2]<arr3[p3]:\n",
    "            p2+=1\n",
    "        else:\n",
    "            p3+=1\n",
    "            \n",
    "    return arr       \n",
    "\n",
    "arr1=[1,2,3,4,5]\n",
    "arr2=[1,2,5,7,9]\n",
    "arr3=[1,3,4,5,8]\n",
    "three_integer_arrays(arr1,arr2,arr3)"
   ]
  },
  {
   "cell_type": "markdown",
   "id": "48cb662b",
   "metadata": {},
   "source": [
    "## Q2"
   ]
  },
  {
   "cell_type": "code",
   "execution_count": 2,
   "id": "6c1d5dc6",
   "metadata": {},
   "outputs": [
    {
     "data": {
      "text/plain": [
       "[[1, 3], [4, 6]]"
      ]
     },
     "execution_count": 2,
     "metadata": {},
     "output_type": "execute_result"
    }
   ],
   "source": [
    "def disjoints(nums1,nums2):\n",
    "    \n",
    "    s1=set(nums1)\n",
    "    s2=set(nums2)\n",
    "    \n",
    "    res1= [num for num in nums1 if num not in s2]\n",
    "    res2= [num for num in nums2 if num not in s1]\n",
    "    \n",
    "    return [res1,res2]\n",
    "\n",
    "nums1 = [1, 2, 3]\n",
    "nums2 = [2, 4, 6]\n",
    "\n",
    "disjoints(nums1,nums2)"
   ]
  },
  {
   "cell_type": "markdown",
   "id": "7b32cd10",
   "metadata": {},
   "source": [
    "## Q3"
   ]
  },
  {
   "cell_type": "code",
   "execution_count": 3,
   "id": "c3755d19",
   "metadata": {},
   "outputs": [
    {
     "data": {
      "text/plain": [
       "[[1, 4, 7], [2, 5, 8], [3, 6, 9]]"
      ]
     },
     "execution_count": 3,
     "metadata": {},
     "output_type": "execute_result"
    }
   ],
   "source": [
    "def transpose(matrix):\n",
    "    \n",
    "    rows = len(matrix)\n",
    "    columns = len(matrix[0])\n",
    "\n",
    "    transposed = [[0 for _ in range(rows)] for _ in range(columns)]\n",
    "\n",
    "    for i in range(rows):\n",
    "        for j in range(columns):\n",
    "            transposed[j][i] = matrix[i][j]\n",
    "\n",
    "    return transposed\n",
    "\n",
    "matrix = [[1,2,3],[4,5,6],[7,8,9]]\n",
    "transpose(matrix)"
   ]
  },
  {
   "cell_type": "markdown",
   "id": "077c9ed2",
   "metadata": {},
   "source": [
    "## Q4"
   ]
  },
  {
   "cell_type": "code",
   "execution_count": 4,
   "id": "91cd7e6f",
   "metadata": {},
   "outputs": [
    {
     "name": "stdout",
     "output_type": "stream",
     "text": [
      "8\n"
     ]
    }
   ],
   "source": [
    "def array_pair_sum(nums):\n",
    "    nums.sort()  \n",
    "    max_sum = 0\n",
    "\n",
    "    for i in range(0, len(nums), 2):\n",
    "        max_sum += nums[i]\n",
    "\n",
    "    return max_sum\n",
    "\n",
    "nums = [1, 4, 7, 92]\n",
    "print(array_pair_sum(nums))"
   ]
  },
  {
   "cell_type": "markdown",
   "id": "f586c4b4",
   "metadata": {},
   "source": [
    "## Q5."
   ]
  },
  {
   "cell_type": "code",
   "execution_count": 5,
   "id": "f258809d",
   "metadata": {},
   "outputs": [
    {
     "name": "stdout",
     "output_type": "stream",
     "text": [
      "5\n"
     ]
    },
    {
     "data": {
      "text/plain": [
       "2"
      ]
     },
     "execution_count": 5,
     "metadata": {},
     "output_type": "execute_result"
    }
   ],
   "source": [
    "def arrange_coins(n):\n",
    "    k = 0\n",
    "\n",
    "    while k*(k + 1) // 2 <= n:\n",
    "        k += 1\n",
    "\n",
    "    return k - 1\n",
    "n=int(input())\n",
    "arrange_coins(n)"
   ]
  },
  {
   "cell_type": "markdown",
   "id": "4481ea60",
   "metadata": {},
   "source": [
    "## Q6.\n"
   ]
  },
  {
   "cell_type": "code",
   "execution_count": 11,
   "id": "bc47ca01",
   "metadata": {},
   "outputs": [
    {
     "data": {
      "text/plain": [
       "[0, 1, 9, 16, 100]"
      ]
     },
     "execution_count": 11,
     "metadata": {},
     "output_type": "execute_result"
    }
   ],
   "source": [
    "def  sq(nums):\n",
    "    arr=[num**2 for num in nums]\n",
    "    arr.sort()\n",
    "    return arr\n",
    "\n",
    "arr= [-4,-1,0,3,10]\n",
    "sq(arr)"
   ]
  },
  {
   "cell_type": "markdown",
   "id": "073d7ed0",
   "metadata": {},
   "source": [
    "## Q7"
   ]
  },
  {
   "cell_type": "code",
   "execution_count": 13,
   "id": "71c7fc99",
   "metadata": {},
   "outputs": [
    {
     "name": "stdout",
     "output_type": "stream",
     "text": [
      "4\n"
     ]
    }
   ],
   "source": [
    "def max_count(m, n, ops):\n",
    "    min_row = m\n",
    "    min_col = n\n",
    "\n",
    "    for op in ops:\n",
    "        min_row = min(min_row, op[0])\n",
    "        min_col = min(min_col, op[1])\n",
    "\n",
    "    return min_row * min_col\n",
    "\n",
    "m = 3\n",
    "n = 3\n",
    "ops = [[2, 2], [3, 3]]\n",
    "print(max_count(m, n, ops))"
   ]
  },
  {
   "cell_type": "markdown",
   "id": "97b2d798",
   "metadata": {},
   "source": [
    "## Q8"
   ]
  },
  {
   "cell_type": "code",
   "execution_count": 12,
   "id": "eab96bac",
   "metadata": {},
   "outputs": [
    {
     "name": "stdout",
     "output_type": "stream",
     "text": [
      "[2, 3, 5, 4, 1, 7]\n"
     ]
    }
   ],
   "source": [
    "def rearrange_array(nums, n):\n",
    "    result = []\n",
    "    for i in range(n):\n",
    "        result.append(nums[i])\n",
    "        result.append(nums[i + n])\n",
    "    return result\n",
    "nums = [2, 5, 1, 3, 4, 7]\n",
    "n = 3\n",
    "print(rearrange_array(nums, n))"
   ]
  },
  {
   "cell_type": "code",
   "execution_count": null,
   "id": "b6940418",
   "metadata": {},
   "outputs": [],
   "source": []
  }
 ],
 "metadata": {
  "kernelspec": {
   "display_name": "Python 3 (ipykernel)",
   "language": "python",
   "name": "python3"
  },
  "language_info": {
   "codemirror_mode": {
    "name": "ipython",
    "version": 3
   },
   "file_extension": ".py",
   "mimetype": "text/x-python",
   "name": "python",
   "nbconvert_exporter": "python",
   "pygments_lexer": "ipython3",
   "version": "3.9.13"
  }
 },
 "nbformat": 4,
 "nbformat_minor": 5
}
